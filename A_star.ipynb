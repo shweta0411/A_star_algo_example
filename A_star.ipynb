{
 "cells": [
  {
   "cell_type": "code",
   "execution_count": 7,
   "id": "81d3fbda",
   "metadata": {},
   "outputs": [
    {
     "name": "stdout",
     "output_type": "stream",
     "text": [
      "Shortest Path: ['s', 'a', 'd', 'f', 'g']\n"
     ]
    }
   ],
   "source": [
    "import heapq\n",
    "\n",
    "graph = {\n",
    "    's': {'a': 4, 'b': 10, 'c': 11},\n",
    "    'a': {'s': 4, 'd': 5, 'b': 8},\n",
    "    'b': {'s': 10, 'd': 15, 'a' : 8},\n",
    "    'c': {'s': 8, 'd': 8,'f' : 2, 'e' : 20},\n",
    "    'd': {'a': 5, 'b': 15, 'c': 8, 'f': 1,'h': 16,'i' : 20},\n",
    "    'e': {'c': 20, 'g': 19},\n",
    "    'f': {'d': 1, 'c': 2,'g' : 13},\n",
    "    'g': {'e': 19, 'f': 13, 'i': 3,'k' : 16},\n",
    "    'h': {'d': 16, 'j': 2,'i' : 1},\n",
    "    'i': {'d': 20, 'h': 1, 'j': 5, 'k': 13, 'g': 3},\n",
    "    'j': {'h': 2,'i' :5, 'k' :7},\n",
    "    'k': {'i': 13,'j' :7 ,'g' :16},\n",
    "}\n",
    "\n",
    "heuristic = {\n",
    "    'a': 8,\n",
    "    'b': 6,\n",
    "    'c': 5,\n",
    "    'd': 5,\n",
    "    'e': 3,\n",
    "    'f': 3,\n",
    "    'g': 0,\n",
    "    'h': 7,\n",
    "    'i': 4,\n",
    "    'j': 5,\n",
    "    'k': 3,\n",
    "    's': 7 \n",
    "}\n",
    "\n",
    "def astar_search(graph, heuristic, start, goal):\n",
    "    frontier = [] \n",
    "    heapq.heappush(frontier, (0, start)) \n",
    "    came_from = {} \n",
    "    cost_so_far = {start: 0} \n",
    "\n",
    "    while frontier:\n",
    "        _, current = heapq.heappop(frontier)  \n",
    "        if current == goal:\n",
    "            break\n",
    "\n",
    "        for neighbor, cost in graph[current].items():\n",
    "            new_cost = cost_so_far[current] + cost\n",
    "            if neighbor not in cost_so_far or new_cost < cost_so_far[neighbor]:\n",
    "                cost_so_far[neighbor] = new_cost\n",
    "                priority = new_cost + heuristic[neighbor] \n",
    "                heapq.heappush(frontier, (priority, neighbor))\n",
    "                came_from[neighbor] = current\n",
    "\n",
    "    path = []\n",
    "    current = goal\n",
    "    while current != start:\n",
    "        path.append(current)\n",
    "        current = came_from[current]\n",
    "    path.append(start)\n",
    "    path.reverse()\n",
    "\n",
    "    return path\n",
    "\n",
    "start_node = 's'\n",
    "end_node = 'g'\n",
    "shortest_path = astar_search(graph, heuristic, start_node, end_node)\n",
    "print(\"Shortest Path:\", shortest_path)\n"
   ]
  },
  {
   "cell_type": "code",
   "execution_count": null,
   "id": "f8b1e399",
   "metadata": {},
   "outputs": [],
   "source": []
  }
 ],
 "metadata": {
  "kernelspec": {
   "display_name": "Python 3 (ipykernel)",
   "language": "python",
   "name": "python3"
  },
  "language_info": {
   "codemirror_mode": {
    "name": "ipython",
    "version": 3
   },
   "file_extension": ".py",
   "mimetype": "text/x-python",
   "name": "python",
   "nbconvert_exporter": "python",
   "pygments_lexer": "ipython3",
   "version": "3.11.3"
  }
 },
 "nbformat": 4,
 "nbformat_minor": 5
}
